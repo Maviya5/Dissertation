{
  "nbformat": 4,
  "nbformat_minor": 0,
  "metadata": {
    "colab": {
      "name": "Tabulapy.ipynb",
      "provenance": [],
      "authorship_tag": "ABX9TyNqxDxg7nPrkpIgL3GjcZjV",
      "include_colab_link": true
    },
    "kernelspec": {
      "name": "python3",
      "display_name": "Python 3"
    }
  },
  "cells": [
    {
      "cell_type": "markdown",
      "metadata": {
        "id": "view-in-github",
        "colab_type": "text"
      },
      "source": [
        "<a href=\"https://colab.research.google.com/github/Maviya5/Dissertation/blob/master/Tabulapy.ipynb\" target=\"_parent\"><img src=\"https://colab.research.google.com/assets/colab-badge.svg\" alt=\"Open In Colab\"/></a>"
      ]
    },
    {
      "cell_type": "code",
      "metadata": {
        "id": "BAI07RBrTwzT",
        "colab_type": "code",
        "colab": {
          "base_uri": "https://localhost:8080/",
          "height": 156
        },
        "outputId": "6da85de0-3a87-452d-8f98-e9f791b77371"
      },
      "source": [
        "!pip install tabula-py\n"
      ],
      "execution_count": 4,
      "outputs": [
        {
          "output_type": "stream",
          "text": [
            "Requirement already satisfied: tabula-py in /usr/local/lib/python3.6/dist-packages (2.1.0)\n",
            "Requirement already satisfied: numpy in /usr/local/lib/python3.6/dist-packages (from tabula-py) (1.17.5)\n",
            "Requirement already satisfied: distro in /usr/local/lib/python3.6/dist-packages (from tabula-py) (1.4.0)\n",
            "Requirement already satisfied: pandas>=0.25.3 in /usr/local/lib/python3.6/dist-packages (from tabula-py) (0.25.3)\n",
            "Requirement already satisfied: python-dateutil>=2.6.1 in /usr/local/lib/python3.6/dist-packages (from pandas>=0.25.3->tabula-py) (2.6.1)\n",
            "Requirement already satisfied: pytz>=2017.2 in /usr/local/lib/python3.6/dist-packages (from pandas>=0.25.3->tabula-py) (2018.9)\n",
            "Requirement already satisfied: six>=1.5 in /usr/local/lib/python3.6/dist-packages (from python-dateutil>=2.6.1->pandas>=0.25.3->tabula-py) (1.12.0)\n"
          ],
          "name": "stdout"
        }
      ]
    },
    {
      "cell_type": "code",
      "metadata": {
        "id": "SLtr5aCmVG2z",
        "colab_type": "code",
        "colab": {
          "base_uri": "https://localhost:8080/",
          "height": 34
        },
        "outputId": "96461f0c-8984-4750-a1a6-0666577e6098"
      },
      "source": [
        "from tabula import read_pdf\n",
        "df = read_pdf('table2.pdf')"
      ],
      "execution_count": 12,
      "outputs": [
        {
          "output_type": "stream",
          "text": [
            "'pages' argument isn't specified.Will extract only from page 1 by default.\n"
          ],
          "name": "stderr"
        }
      ]
    },
    {
      "cell_type": "code",
      "metadata": {
        "id": "bGwYg2yRVPV4",
        "colab_type": "code",
        "colab": {
          "base_uri": "https://localhost:8080/",
          "height": 102
        },
        "outputId": "273af47d-0ef5-4b5a-a914-412a37fa8d11"
      },
      "source": [
        "df"
      ],
      "execution_count": 13,
      "outputs": [
        {
          "output_type": "execute_result",
          "data": {
            "text/plain": [
              "[   Number of Coils Number of Paperclips\n",
              " 0                5              3, 5, 4\n",
              " 1               10              7, 8, 6\n",
              " 2               15           11, 10, 12\n",
              " 3               20           15, 13, 14]"
            ]
          },
          "metadata": {
            "tags": []
          },
          "execution_count": 13
        }
      ]
    },
    {
      "cell_type": "code",
      "metadata": {
        "id": "1-QD-xVqWjqT",
        "colab_type": "code",
        "colab": {
          "base_uri": "https://localhost:8080/",
          "height": 1000
        },
        "outputId": "de537505-c965-4d5d-9fef-5f1d2b03664d"
      },
      "source": [
        "read_pdf('table2.pdf',output_format='json')"
      ],
      "execution_count": 15,
      "outputs": [
        {
          "output_type": "stream",
          "text": [
            "'pages' argument isn't specified.Will extract only from page 1 by default.\n"
          ],
          "name": "stderr"
        },
        {
          "output_type": "execute_result",
          "data": {
            "text/plain": [
              "[{'bottom': 469.5,\n",
              "  'data': [[{'height': 18.399993896484375,\n",
              "     'left': 105.75,\n",
              "     'text': 'Number of Coils',\n",
              "     'top': 379.6,\n",
              "     'width': 122.25},\n",
              "    {'height': 18.399993896484375,\n",
              "     'left': 228.0,\n",
              "     'text': 'Number of Paperclips',\n",
              "     'top': 379.6,\n",
              "     'width': 151.55859375}],\n",
              "   [{'height': 18.0,\n",
              "     'left': 105.75,\n",
              "     'text': '5',\n",
              "     'top': 398.0,\n",
              "     'width': 122.25},\n",
              "    {'height': 18.0,\n",
              "     'left': 228.0,\n",
              "     'text': '3, 5, 4',\n",
              "     'top': 398.0,\n",
              "     'width': 151.55859375}],\n",
              "   [{'height': 18.0,\n",
              "     'left': 105.75,\n",
              "     'text': '10',\n",
              "     'top': 416.0,\n",
              "     'width': 122.25},\n",
              "    {'height': 18.0,\n",
              "     'left': 228.0,\n",
              "     'text': '7, 8, 6',\n",
              "     'top': 416.0,\n",
              "     'width': 151.55859375}],\n",
              "   [{'height': 18.0,\n",
              "     'left': 105.75,\n",
              "     'text': '15',\n",
              "     'top': 434.0,\n",
              "     'width': 122.25},\n",
              "    {'height': 18.0,\n",
              "     'left': 228.0,\n",
              "     'text': '11, 10, 12',\n",
              "     'top': 434.0,\n",
              "     'width': 151.55859375}],\n",
              "   [{'height': 17.5,\n",
              "     'left': 105.75,\n",
              "     'text': '20',\n",
              "     'top': 452.0,\n",
              "     'width': 122.25},\n",
              "    {'height': 17.5,\n",
              "     'left': 228.0,\n",
              "     'text': '15, 13, 14',\n",
              "     'top': 452.0,\n",
              "     'width': 151.55859375}]],\n",
              "  'extraction_method': 'lattice',\n",
              "  'height': 89.89999389648438,\n",
              "  'left': 105.75,\n",
              "  'right': 379.5586,\n",
              "  'top': 379.6,\n",
              "  'width': 273.80859375}]"
            ]
          },
          "metadata": {
            "tags": []
          },
          "execution_count": 15
        }
      ]
    },
    {
      "cell_type": "code",
      "metadata": {
        "id": "UTNcIPAyXER6",
        "colab_type": "code",
        "colab": {}
      },
      "source": [
        "from tabula import convert_into"
      ],
      "execution_count": 0,
      "outputs": []
    },
    {
      "cell_type": "code",
      "metadata": {
        "id": "NZQMPj7eXZ1N",
        "colab_type": "code",
        "colab": {
          "base_uri": "https://localhost:8080/",
          "height": 282
        },
        "outputId": "61412061-d2a8-422a-810a-943cee85c7ad"
      },
      "source": [
        "read_pdf('table.pdf', output_format='csv')"
      ],
      "execution_count": 20,
      "outputs": [
        {
          "output_type": "error",
          "ename": "ValueError",
          "evalue": "ignored",
          "traceback": [
            "\u001b[0;31m---------------------------------------------------------------------------\u001b[0m",
            "\u001b[0;31mValueError\u001b[0m                                Traceback (most recent call last)",
            "\u001b[0;32m<ipython-input-20-77190c35c611>\u001b[0m in \u001b[0;36m<module>\u001b[0;34m()\u001b[0m\n\u001b[0;32m----> 1\u001b[0;31m \u001b[0mread_pdf\u001b[0m\u001b[0;34m(\u001b[0m\u001b[0;34m'table.pdf'\u001b[0m\u001b[0;34m,\u001b[0m \u001b[0moutput_format\u001b[0m\u001b[0;34m=\u001b[0m\u001b[0;34m'csv'\u001b[0m\u001b[0;34m)\u001b[0m\u001b[0;34m\u001b[0m\u001b[0;34m\u001b[0m\u001b[0m\n\u001b[0m",
            "\u001b[0;32m/usr/local/lib/python3.6/dist-packages/tabula/io.py\u001b[0m in \u001b[0;36mread_pdf\u001b[0;34m(input_path, output_format, encoding, java_options, pandas_options, multiple_tables, user_agent, **kwargs)\u001b[0m\n\u001b[1;32m    290\u001b[0m             \u001b[0mkwargs\u001b[0m\u001b[0;34m[\u001b[0m\u001b[0;34m\"format\"\u001b[0m\u001b[0;34m]\u001b[0m \u001b[0;34m=\u001b[0m \u001b[0;34m\"JSON\"\u001b[0m\u001b[0;34m\u001b[0m\u001b[0;34m\u001b[0m\u001b[0m\n\u001b[1;32m    291\u001b[0m         \u001b[0;32melse\u001b[0m\u001b[0;34m:\u001b[0m\u001b[0;34m\u001b[0m\u001b[0;34m\u001b[0m\u001b[0m\n\u001b[0;32m--> 292\u001b[0;31m             \u001b[0;32mraise\u001b[0m \u001b[0mValueError\u001b[0m\u001b[0;34m(\u001b[0m\u001b[0;34m\"Unknown output_format {}\"\u001b[0m\u001b[0;34m.\u001b[0m\u001b[0mformat\u001b[0m\u001b[0;34m(\u001b[0m\u001b[0moutput_format\u001b[0m\u001b[0;34m)\u001b[0m\u001b[0;34m)\u001b[0m\u001b[0;34m\u001b[0m\u001b[0;34m\u001b[0m\u001b[0m\n\u001b[0m\u001b[1;32m    293\u001b[0m \u001b[0;34m\u001b[0m\u001b[0m\n\u001b[1;32m    294\u001b[0m     \u001b[0;32mif\u001b[0m \u001b[0mmultiple_tables\u001b[0m\u001b[0;34m:\u001b[0m\u001b[0;34m\u001b[0m\u001b[0;34m\u001b[0m\u001b[0m\n",
            "\u001b[0;31mValueError\u001b[0m: Unknown output_format csv"
          ]
        }
      ]
    },
    {
      "cell_type": "code",
      "metadata": {
        "id": "5ibxJZqPXLe8",
        "colab_type": "code",
        "colab": {
          "base_uri": "https://localhost:8080/",
          "height": 119
        },
        "outputId": "4ba4c1c5-5f3f-47e8-c024-9191fcb14ddd"
      },
      "source": [
        "convert_into('table2.pdf', 'test.csv', output_format='csv')\n",
        "!cat test.csv"
      ],
      "execution_count": 21,
      "outputs": [
        {
          "output_type": "stream",
          "text": [
            "'pages' argument isn't specified.Will extract only from page 1 by default.\n"
          ],
          "name": "stderr"
        },
        {
          "output_type": "stream",
          "text": [
            "Number of Coils,Number of Paperclips\r\n",
            "5,\"3, 5, 4\"\r\n",
            "10,\"7, 8, 6\"\r\n",
            "15,\"11, 10, 12\"\r\n",
            "20,\"15, 13, 14\"\r\n"
          ],
          "name": "stdout"
        }
      ]
    },
    {
      "cell_type": "code",
      "metadata": {
        "id": "djt80pDbX21j",
        "colab_type": "code",
        "colab": {
          "base_uri": "https://localhost:8080/",
          "height": 119
        },
        "outputId": "780e89e8-fc6e-417d-fc45-4a1ec0796b0d"
      },
      "source": [
        "convert_into('table2.pdf', 'test.tsv', output_format='tsv')\n",
        "!cat test.tsv"
      ],
      "execution_count": 22,
      "outputs": [
        {
          "output_type": "stream",
          "text": [
            "'pages' argument isn't specified.Will extract only from page 1 by default.\n"
          ],
          "name": "stderr"
        },
        {
          "output_type": "stream",
          "text": [
            "Number of Coils\tNumber of Paperclips\r\n",
            "5\t3, 5, 4\r\n",
            "10\t7, 8, 6\r\n",
            "15\t11, 10, 12\r\n",
            "20\t15, 13, 14\r\n"
          ],
          "name": "stdout"
        }
      ]
    },
    {
      "cell_type": "code",
      "metadata": {
        "id": "j6meOFXgX-C-",
        "colab_type": "code",
        "colab": {}
      },
      "source": [
        ""
      ],
      "execution_count": 0,
      "outputs": []
    }
  ]
}