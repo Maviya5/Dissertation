{
  "nbformat": 4,
  "nbformat_minor": 0,
  "metadata": {
    "colab": {
      "name": "pypdf2.ipynb",
      "provenance": [],
      "authorship_tag": "ABX9TyMCpYUL0W5QrqPRXvBSCH6d",
      "include_colab_link": true
    },
    "kernelspec": {
      "name": "python3",
      "display_name": "Python 3"
    }
  },
  "cells": [
    {
      "cell_type": "markdown",
      "metadata": {
        "id": "view-in-github",
        "colab_type": "text"
      },
      "source": [
        "<a href=\"https://colab.research.google.com/github/Maviya5/Dissertation/blob/master/pypdf2.ipynb\" target=\"_parent\"><img src=\"https://colab.research.google.com/assets/colab-badge.svg\" alt=\"Open In Colab\"/></a>"
      ]
    },
    {
      "cell_type": "code",
      "metadata": {
        "id": "FeQ3UjeqRCqp",
        "colab_type": "code",
        "colab": {
          "base_uri": "https://localhost:8080/",
          "height": 187
        },
        "outputId": "c027e865-1ed4-489e-a88f-a62bae725553"
      },
      "source": [
        "!pip install pypdf2"
      ],
      "execution_count": 4,
      "outputs": [
        {
          "output_type": "stream",
          "text": [
            "Collecting pypdf2\n",
            "\u001b[?25l  Downloading https://files.pythonhosted.org/packages/b4/01/68fcc0d43daf4c6bdbc6b33cc3f77bda531c86b174cac56ef0ffdb96faab/PyPDF2-1.26.0.tar.gz (77kB)\n",
            "\r\u001b[K     |████▎                           | 10kB 20.5MB/s eta 0:00:01\r\u001b[K     |████████▌                       | 20kB 3.1MB/s eta 0:00:01\r\u001b[K     |████████████▊                   | 30kB 3.5MB/s eta 0:00:01\r\u001b[K     |█████████████████               | 40kB 3.0MB/s eta 0:00:01\r\u001b[K     |█████████████████████▏          | 51kB 3.4MB/s eta 0:00:01\r\u001b[K     |█████████████████████████▍      | 61kB 4.0MB/s eta 0:00:01\r\u001b[K     |█████████████████████████████▋  | 71kB 4.3MB/s eta 0:00:01\r\u001b[K     |████████████████████████████████| 81kB 3.4MB/s \n",
            "\u001b[?25hBuilding wheels for collected packages: pypdf2\n",
            "  Building wheel for pypdf2 (setup.py) ... \u001b[?25l\u001b[?25hdone\n",
            "  Created wheel for pypdf2: filename=PyPDF2-1.26.0-cp36-none-any.whl size=61086 sha256=76db1e3eeeafc2aa9843808e885bc4f3156e5196d10bc7ac0406ec4a8c37c5e6\n",
            "  Stored in directory: /root/.cache/pip/wheels/53/84/19/35bc977c8bf5f0c23a8a011aa958acd4da4bbd7a229315c1b7\n",
            "Successfully built pypdf2\n",
            "Installing collected packages: pypdf2\n",
            "Successfully installed pypdf2-1.26.0\n"
          ],
          "name": "stdout"
        }
      ]
    },
    {
      "cell_type": "code",
      "metadata": {
        "id": "J-LBj-96OQbU",
        "colab_type": "code",
        "colab": {
          "base_uri": "https://localhost:8080/",
          "height": 187
        },
        "outputId": "f7657040-006f-4fa1-f0c4-8da09445835d"
      },
      "source": [
        "from PyPDF2 import PdfFileReader\n",
        "\n",
        "def extract_information(pdf_path):\n",
        "    with open(pdf_path, 'rb') as f:\n",
        "        pdf = PdfFileReader(f)\n",
        "        information = pdf.getDocumentInfo()\n",
        "        number_of_pages = pdf.getNumPages()\n",
        "\n",
        "    txt = f\"\"\"\n",
        "    Information about {pdf_path}: \n",
        "\n",
        "    Author: {information.author}\n",
        "    Creator: {information.creator}\n",
        "    Producer: {information.producer}\n",
        "    Subject: {information.subject}\n",
        "    Title: {information.title}\n",
        "    Number of pages: {number_of_pages}\n",
        "    \"\"\"\n",
        "\n",
        "    print(txt)\n",
        "    return information\n",
        "\n",
        "if __name__ == '__main__':\n",
        "    path = 'Example1.pdf'\n",
        "    extract_information(path)"
      ],
      "execution_count": 5,
      "outputs": [
        {
          "output_type": "stream",
          "text": [
            "\n",
            "    Information about Example1.pdf: \n",
            "\n",
            "    Author: Shah Khusro, Asima Latif, and Irfan Ullah\n",
            "    Creator: C&M\n",
            "    Producer: Acrobat Distiller 8.0.0 (Windows); modified using iText 4.2.0 by 1T3XT\n",
            "    Subject: Journal of Information Science 2015.41:41-57\n",
            "    Title: On methods and tools of table detection, extraction and annotation in PDF documents\n",
            "    Number of pages: 17\n",
            "    \n"
          ],
          "name": "stdout"
        }
      ]
    },
    {
      "cell_type": "code",
      "metadata": {
        "id": "Zk37R5U1QhkS",
        "colab_type": "code",
        "colab": {}
      },
      "source": [
        "# pdf_splitting.py\n",
        "\n",
        "from PyPDF2 import PdfFileReader, PdfFileWriter\n",
        "\n",
        "def split(path, name_of_split):\n",
        "    pdf = PdfFileReader(path)\n",
        "    for page in range(pdf.getNumPages()):\n",
        "        pdf_writer = PdfFileWriter()\n",
        "        pdf_writer.addPage(pdf.getPage(page))\n",
        "\n",
        "        output = f'{name_of_split}{page}.pdf'\n",
        "        with open(output, 'wb') as output_pdf:\n",
        "            pdf_writer.write(output_pdf)\n",
        "\n",
        "if __name__ == '__main__':\n",
        "    path = 'Example1.pdf'\n",
        "    split(path, 'jupyter_page')"
      ],
      "execution_count": 0,
      "outputs": []
    },
    {
      "cell_type": "code",
      "metadata": {
        "id": "GhUUU4EIRrPY",
        "colab_type": "code",
        "colab": {}
      },
      "source": [
        "# rotate_pages.py\n",
        "\n",
        "from PyPDF2 import PdfFileReader, PdfFileWriter\n",
        "\n",
        "def rotate_pages(pdf_path):\n",
        "    pdf_writer = PdfFileWriter()\n",
        "    pdf_reader = PdfFileReader(pdf_path)\n",
        "    # Rotate page 90 degrees to the right\n",
        "    page_1 = pdf_reader.getPage(0).rotateClockwise(90)\n",
        "    pdf_writer.addPage(page_1)\n",
        "    # Rotate page 90 degrees to the left\n",
        "    page_2 = pdf_reader.getPage(1).rotateCounterClockwise(90)\n",
        "    pdf_writer.addPage(page_2)\n",
        "    # Add a page in normal orientation\n",
        "    pdf_writer.addPage(pdf_reader.getPage(2))\n",
        "\n",
        "    with open('rotate_pages.pdf', 'wb') as fh:\n",
        "        pdf_writer.write(fh)\n",
        "\n",
        "if __name__ == '__main__':\n",
        "    path = 'Example1.pdf'\n",
        "    rotate_pages(path)"
      ],
      "execution_count": 0,
      "outputs": []
    },
    {
      "cell_type": "code",
      "metadata": {
        "id": "ZxuKWzvRSt89",
        "colab_type": "code",
        "colab": {}
      },
      "source": [
        ""
      ],
      "execution_count": 0,
      "outputs": []
    }
  ]
}